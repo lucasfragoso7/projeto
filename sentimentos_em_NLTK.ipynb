{
 "cells": [
  {
   "cell_type": "code",
   "execution_count": 89,
   "metadata": {},
   "outputs": [],
   "source": [
    "import nltk\n",
    "import unidecode\n",
    "import spacy\n",
    "import random  # biblioteca para números aleatórios\n",
    "import pandas as pd\n",
    "import seaborn as sns\n",
    "import numpy as np \n",
    "from string import punctuation\n",
    "\n",
    "# nltk.download('punkt')\n",
    "# nltk.download('machado')\n",
    "# nltk.download('stopwords')\n",
    "# nltk.download('rslp')\n",
    "\n",
    "\n",
    "# %pip install spacy==2.2.3\n",
    "# %python3 -m spacy download pt_core_news_lg"
   ]
  },
  {
   "cell_type": "code",
   "execution_count": 90,
   "metadata": {},
   "outputs": [],
   "source": [
    "def pre_processamento(texto):\n",
    "    texto = texto.lower()\n",
    "    documento =  pln(texto)\n",
    "    lista = []\n",
    "\n",
    "    #tratamento de stopWords e pontuações\n",
    "    pontuacao_stopwords = nltk.corpus.stopwords.words(\"portuguese\") + list(punctuation)\n",
    "    #tratamento de stopwords sem acento.\n",
    "    stopwords_sem_acento = [unidecode.unidecode(texto) for texto in pontuacao_stopwords]\n",
    "    #Tokenização por pontuação\n",
    "    for token in documento:\n",
    "        if token.lower_ not in stopwords_sem_acento:\n",
    "            lista.append(token.lemma_)\n",
    "    return ' '.join(lista)"
   ]
  },
  {
   "cell_type": "code",
   "execution_count": 91,
   "metadata": {},
   "outputs": [],
   "source": [
    "pln = spacy.load('pt_core_news_lg')\n",
    "\n",
    "contos_dom_casmurro = nltk.corpus.machado.fileids('contos')\n",
    "contos_dom_casmurro_raw = {}\n",
    "\n",
    "# for conto in contos_dom_casmurro:\n",
    "#     contos_dom_casmurro_raw.append(nltk.corpus.machado.raw(conto))\n",
    "\n",
    "import os \n",
    "path = \"obras\\conto\"\n",
    "  \n",
    "for file in os.listdir(path): \n",
    "    if file.endswith(\".txt\"): \n",
    "        file_path = f\"{path}\\{file}\"\n",
    "        with open(file_path, 'r') as f: \n",
    "            contos_dom_casmurro_raw[file.strip('.txt')] = f.read() \n"
   ]
  },
  {
   "cell_type": "code",
   "execution_count": 95,
   "metadata": {},
   "outputs": [
    {
     "data": {
      "text/plain": [
       "0.9754255233601099"
      ]
     },
     "execution_count": 95,
     "metadata": {},
     "output_type": "execute_result"
    }
   ],
   "source": [
    "documento = pln(list(contos_dom_casmurro_raw.values())[0])\n",
    "documento1 = pln(list(contos_dom_casmurro_raw.values())[4])\n",
    "\n",
    "documento.similarity(documento1)"
   ]
  }
 ],
 "metadata": {
  "interpreter": {
   "hash": "35c4bcfff6bb594ff47b51ce5b21bcb1093d06fa0c5debe7002e3be5d50f4cc1"
  },
  "kernelspec": {
   "display_name": "Python 3.10.1 64-bit",
   "language": "python",
   "name": "python3"
  },
  "language_info": {
   "codemirror_mode": {
    "name": "ipython",
    "version": 3
   },
   "file_extension": ".py",
   "mimetype": "text/x-python",
   "name": "python",
   "nbconvert_exporter": "python",
   "pygments_lexer": "ipython3",
   "version": "3.9.7"
  },
  "orig_nbformat": 4
 },
 "nbformat": 4,
 "nbformat_minor": 2
}
